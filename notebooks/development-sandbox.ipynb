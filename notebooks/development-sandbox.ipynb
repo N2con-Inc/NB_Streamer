{
 "cells": [
  {
   "cell_type": "markdown",
   "metadata": {},
   "source": [
    "# NB_Streamer Development Sandbox\n",
    "\n",
    "This notebook is for experimenting with NB_Streamer functionality during development.\n",
    "\n",
    "## Setup"
   ]
  },
  {
   "cell_type": "code",
   "execution_count": null,
   "metadata": {},
   "outputs": [],
   "source": [
    "import json\n",
    "import requests\n",
    "from datetime import datetime\n",
    "import sys\n",
    "import os\n",
    "\n",
    "# Add src to path for imports\n",
    "sys.path.append('/app/src')\n",
    "\n",
    "print(\"NB_Streamer Development Environment\")\n",
    "print(f\"Python version: {sys.version}\")\n",
    "print(f\"Current working directory: {os.getcwd()}\")"
   ]
  },
  {
   "cell_type": "markdown",
   "metadata": {},
   "source": [
    "## Test API Connection"
   ]
  },
  {
   "cell_type": "code",
   "execution_count": null,
   "metadata": {},
   "outputs": [],
   "source": [
    "# Test connection to local API\n",
    "api_base = \"http://localhost:8080\"\n",
    "\n",
    "try:\n",
    "    response = requests.get(f\"{api_base}/health\")\n",
    "    print(f\"Health check status: {response.status_code}\")\n",
    "    print(f\"Response: {response.json()}\")\n",
    "except requests.exceptions.ConnectionError:\n",
    "    print(\"API not running. Start it with: python -m uvicorn src.main:app --reload\")"
   ]
  },
  {
   "cell_type": "markdown",
   "metadata": {},
   "source": [
    "## Sample Netbird Event Data"
   ]
  },
  {
   "cell_type": "code",
   "execution_count": null,
   "metadata": {},
   "outputs": [],
   "source": [
    "# Sample Netbird event for testing\n",
    "sample_event = {\n",
    "    \"ID\": \"event-123-456\",\n",
    "    \"Timestamp\": datetime.utcnow().isoformat() + \"Z\",\n",
    "    \"Message\": \"Peer connected to network\",\n",
    "    \"InitiatorID\": \"peer-laptop-001\",\n",
    "    \"TargetID\": \"peer-server-001\",\n",
    "    \"Meta\": {\n",
    "        \"ip\": \"10.0.0.15\",\n",
    "        \"location\": \"San Francisco\",\n",
    "        \"client_version\": \"0.24.0\"\n",
    "    },\n",
    "    \"Reference\": \"https://netbird.io/activity/event-123-456\"\n",
    "}\n",
    "\n",
    "print(\"Sample Netbird Event:\")\n",
    "print(json.dumps(sample_event, indent=2))"
   ]
  },
  {
   "cell_type": "markdown",
   "metadata": {},
   "source": [
    "## Test Event Processing"
   ]
  },
  {
   "cell_type": "code",
   "execution_count": null,
   "metadata": {},
   "outputs": [],
   "source": [
    "# Send test event to API\n",
    "try:\n",
    "    response = requests.post(\n",
    "        f\"{api_base}/events\",\n",
    "        json=sample_event,\n",
    "        headers={\"Content-Type\": \"application/json\"}\n",
    "    )\n",
    "    print(f\"Event submission status: {response.status_code}\")\n",
    "    print(f\"Response: {response.json()}\")\n",
    "except requests.exceptions.ConnectionError:\n",
    "    print(\"API not running. Start it with: python -m uvicorn src.main:app --reload\")"
   ]
  },
  {
   "cell_type": "markdown",
   "metadata": {},
   "source": [
    "## GELF Format Experimentation\n",
    "\n",
    "Experiment with converting Netbird events to GELF format."
   ]
  },
  {
   "cell_type": "code",
   "execution_count": null,
   "metadata": {},
   "outputs": [],
   "source": [
    "import time\n",
    "from datetime import datetime\n",
    "\n",
    "def netbird_to_gelf(netbird_event):\n",
    "    \"\"\"Convert Netbird event to GELF format - experimental implementation.\"\"\"\n",
    "    \n",
    "    # Parse timestamp\n",
    "    timestamp = datetime.fromisoformat(netbird_event[\"Timestamp\"].replace(\"Z\", \"+00:00\"))\n",
    "    unix_timestamp = timestamp.timestamp()\n",
    "    \n",
    "    # Create GELF message\n",
    "    gelf_message = {\n",
    "        \"version\": \"1.1\",\n",
    "        \"host\": netbird_event.get(\"InitiatorID\", \"unknown\"),\n",
    "        \"short_message\": netbird_event[\"Message\"],\n",
    "        \"timestamp\": unix_timestamp,\n",
    "        \"level\": 6,  # Info level\n",
    "        \"full_message\": f\"{netbird_event['Message']} - Meta: {json.dumps(netbird_event.get('Meta', {}))}\",\n",
    "        \n",
    "        # Custom Netbird fields with NB_ prefix\n",
    "        \"NB_ID\": netbird_event[\"ID\"],\n",
    "        \"NB_TIMESTAMP\": netbird_event[\"Timestamp\"],\n",
    "        \"NB_INITIATOR_ID\": netbird_event[\"InitiatorID\"],\n",
    "        \"NB_TARGET_ID\": netbird_event[\"TargetID\"],\n",
    "        \"NB_REFERENCE\": netbird_event[\"Reference\"],\n",
    "        \"NB_META\": netbird_event.get(\"Meta\", {})\n",
    "    }\n",
    "    \n",
    "    return gelf_message\n",
    "\n",
    "# Test conversion\n",
    "gelf_event = netbird_to_gelf(sample_event)\n",
    "print(\"Converted GELF Event:\")\n",
    "print(json.dumps(gelf_event, indent=2))"
   ]
  },
  {
   "cell_type": "markdown",
   "metadata": {},
   "source": [
    "## Development Notes\n",
    "\n",
    "Use this section for development notes and experimentation."
   ]
  },
  {
   "cell_type": "code",
   "execution_count": null,
   "metadata": {},
   "outputs": [],
   "source": [
    "# Development playground - add your experimental code here\n",
    "print(\"Ready for development!\")\n",
    "print(\"Next: Implement Phase 1 features\")"
   ]
  }
 ],
 "metadata": {
  "kernelspec": {
   "display_name": "Python 3",
   "language": "python",
   "name": "python3"
  },
  "language_info": {
   "codemirror_mode": {
    "name": "ipython",
    "version": 3
   },
   "file_extension": ".py",
   "mimetype": "text/x-python",
   "name": "python",
   "nbconvert_exporter": "python",
   "pygments_lexer": "ipython3",
   "version": "3.10.0"
  }
 },
 "nbformat": 4,
 "nbformat_minor": 4
}
